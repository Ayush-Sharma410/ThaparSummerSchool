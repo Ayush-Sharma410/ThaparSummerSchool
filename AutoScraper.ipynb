{
  "nbformat": 4,
  "nbformat_minor": 0,
  "metadata": {
    "colab": {
      "provenance": [],
      "include_colab_link": true
    },
    "kernelspec": {
      "name": "python3",
      "display_name": "Python 3"
    },
    "language_info": {
      "name": "python"
    }
  },
  "cells": [
    {
      "cell_type": "markdown",
      "metadata": {
        "id": "view-in-github",
        "colab_type": "text"
      },
      "source": [
        "<a href=\"https://colab.research.google.com/github/Ayush-Sharma410/ThaparSummerSchool/blob/main/Autoscraper.ipynb\" target=\"_parent\"><img src=\"https://colab.research.google.com/assets/colab-badge.svg\" alt=\"Open In Colab\"/></a>"
      ]
    },
    {
      "cell_type": "code",
      "execution_count": 15,
      "metadata": {
        "id": "jIenIrxN1g4s",
        "colab": {
          "base_uri": "https://localhost:8080/"
        },
        "outputId": "938d959b-5782-4ce4-df52-56d5441c2e63"
      },
      "outputs": [
        {
          "output_type": "stream",
          "name": "stdout",
          "text": [
            "Looking in indexes: https://pypi.org/simple, https://us-python.pkg.dev/colab-wheels/public/simple/\n",
            "Requirement already satisfied: autoscraper in /usr/local/lib/python3.10/dist-packages (1.1.14)\n",
            "Requirement already satisfied: requests in /usr/local/lib/python3.10/dist-packages (from autoscraper) (2.27.1)\n",
            "Requirement already satisfied: bs4 in /usr/local/lib/python3.10/dist-packages (from autoscraper) (0.0.1)\n",
            "Requirement already satisfied: lxml in /usr/local/lib/python3.10/dist-packages (from autoscraper) (4.9.2)\n",
            "Requirement already satisfied: beautifulsoup4 in /usr/local/lib/python3.10/dist-packages (from bs4->autoscraper) (4.11.2)\n",
            "Requirement already satisfied: urllib3<1.27,>=1.21.1 in /usr/local/lib/python3.10/dist-packages (from requests->autoscraper) (1.26.15)\n",
            "Requirement already satisfied: certifi>=2017.4.17 in /usr/local/lib/python3.10/dist-packages (from requests->autoscraper) (2022.12.7)\n",
            "Requirement already satisfied: charset-normalizer~=2.0.0 in /usr/local/lib/python3.10/dist-packages (from requests->autoscraper) (2.0.12)\n",
            "Requirement already satisfied: idna<4,>=2.5 in /usr/local/lib/python3.10/dist-packages (from requests->autoscraper) (3.4)\n",
            "Requirement already satisfied: soupsieve>1.2 in /usr/local/lib/python3.10/dist-packages (from beautifulsoup4->bs4->autoscraper) (2.4.1)\n"
          ]
        }
      ],
      "source": [
        "!pip install autoscraper"
      ]
    },
    {
      "cell_type": "code",
      "source": [
        "from autoscraper import AutoScraper"
      ],
      "metadata": {
        "id": "wASnccCD1jU5"
      },
      "execution_count": 16,
      "outputs": []
    },
    {
      "cell_type": "code",
      "source": [
        "amazon_url=\"https://www.1mg.com/drugs-all-medicines\"\n",
        "wanted_list=[\"MRP₹182.78\",\"Augmentin 625 Duo Tablet\"]"
      ],
      "metadata": {
        "id": "6ws7-sZUjFSk"
      },
      "execution_count": 24,
      "outputs": []
    },
    {
      "cell_type": "code",
      "source": [
        "scraper=AutoScraper()\n",
        "result=scraper.build(amazon_url,wanted_list)\n",
        "print(result)"
      ],
      "metadata": {
        "id": "8QSDOiWH2Ynt",
        "colab": {
          "base_uri": "https://localhost:8080/"
        },
        "outputId": "338a342d-fba7-4eb8-fa9f-d521e24b5a19"
      },
      "execution_count": 26,
      "outputs": [
        {
          "output_type": "stream",
          "name": "stdout",
          "text": [
            "['MRP₹182.78', 'MRP₹118', 'MRP₹10.97', 'MRP₹131.94', 'MRP₹44.85', 'MRP₹218.81', 'MRP₹760.94', 'MRP₹32250', 'MRP₹85.5', 'MRP₹55.98', 'MRP₹134.2', 'MRP₹2928.2', 'MRP₹79.8', 'MRP₹31.9', 'MRP₹134.23', 'MRP₹170.5', 'MRP₹251.3', 'MRP₹145', 'MRP₹128', 'MRP₹131.93', 'MRP₹60.48', 'MRP₹36.6', 'MRP₹84.1', 'MRP₹135', 'MRP₹251.2', 'MRP₹129', 'MRP₹49.05', 'MRP₹47.91', 'Augmentin 625 Duo Tablet', 'Aricep 5 Tablet', 'Avil 25 Tablet', 'Azithral 500 Tablet', 'Aciloc 150 Tablet', 'Ascoril LS Syrup', 'Allegra 120mg Tablet', 'Armotraz Tablet', 'Amoxyclav 625 Tablet', 'Avastin 100mg Injection', 'Atarax 25mg Tablet', 'Avomine Tablet', 'Anovate Cream', 'Actorise 40 Injection', 'Arkamin Tablet', 'Alprax 0.25 Tablet', 'Alkasol Oral Solution', 'Aricep 10 Tablet', 'Allegra-M Tablet', 'Aricep-M  Tablet', 'Altraday Capsule SR', 'Azee 500 Tablet', 'Augmentin Duo Oral Suspension', 'Aldactone Tablet', 'Ativan 2mg Tablet', 'Ascoril D Plus Syrup Sugar Free', 'Allegra 180mg Tablet', 'Alex Syrup', 'Amlokind-AT Tablet', 'Atarax 10mg Tablet']\n"
          ]
        }
      ]
    },
    {
      "cell_type": "code",
      "source": [
        "scraper.get_result_similar(amazon_url,grouped=True)"
      ],
      "metadata": {
        "id": "mTk5gpAj24Ep",
        "colab": {
          "base_uri": "https://localhost:8080/"
        },
        "outputId": "88c68513-fd07-46f9-e074-5d796b0def3a"
      },
      "execution_count": 27,
      "outputs": [
        {
          "output_type": "execute_result",
          "data": {
            "text/plain": [
              "{'rule_f0pa': ['MRP₹182.78',\n",
              "  'MRP₹118',\n",
              "  'MRP₹10.97',\n",
              "  'MRP₹131.94',\n",
              "  'MRP₹44.85',\n",
              "  'MRP₹118',\n",
              "  'MRP₹218.81',\n",
              "  'MRP₹760.94',\n",
              "  'MRP₹182.78',\n",
              "  'MRP₹32250',\n",
              "  'MRP₹85.5',\n",
              "  'MRP₹55.98',\n",
              "  'MRP₹134.2',\n",
              "  'MRP₹2928.2',\n",
              "  'MRP₹79.8',\n",
              "  'MRP₹31.9',\n",
              "  'MRP₹134.23',\n",
              "  'MRP₹170.5',\n",
              "  'MRP₹251.3',\n",
              "  'MRP₹145',\n",
              "  'MRP₹128',\n",
              "  'MRP₹131.93',\n",
              "  'MRP₹60.48',\n",
              "  'MRP₹36.6',\n",
              "  'MRP₹84.1',\n",
              "  'MRP₹135',\n",
              "  'MRP₹251.2',\n",
              "  'MRP₹129',\n",
              "  'MRP₹49.05',\n",
              "  'MRP₹47.91'],\n",
              " 'rule_5e18': ['MRP₹182.78',\n",
              "  'MRP₹118',\n",
              "  'MRP₹10.97',\n",
              "  'MRP₹131.94',\n",
              "  'MRP₹44.85',\n",
              "  'MRP₹118',\n",
              "  'MRP₹218.81',\n",
              "  'MRP₹760.94',\n",
              "  'MRP₹182.78',\n",
              "  'MRP₹32250',\n",
              "  'MRP₹85.5',\n",
              "  'MRP₹55.98',\n",
              "  'MRP₹134.2',\n",
              "  'MRP₹2928.2',\n",
              "  'MRP₹79.8',\n",
              "  'MRP₹31.9',\n",
              "  'MRP₹134.23',\n",
              "  'MRP₹170.5',\n",
              "  'MRP₹251.3',\n",
              "  'MRP₹145',\n",
              "  'MRP₹128',\n",
              "  'MRP₹131.93',\n",
              "  'MRP₹60.48',\n",
              "  'MRP₹36.6',\n",
              "  'MRP₹84.1',\n",
              "  'MRP₹135',\n",
              "  'MRP₹251.2',\n",
              "  'MRP₹129',\n",
              "  'MRP₹49.05',\n",
              "  'MRP₹47.91'],\n",
              " 'rule_herg': ['Augmentin 625 Duo Tablet',\n",
              "  'Aricep 5 Tablet',\n",
              "  'Avil 25 Tablet',\n",
              "  'Azithral 500 Tablet',\n",
              "  'Aciloc 150 Tablet',\n",
              "  'Ascoril LS Syrup',\n",
              "  'Allegra 120mg Tablet',\n",
              "  'Armotraz Tablet',\n",
              "  'Amoxyclav 625 Tablet',\n",
              "  'Avastin 100mg Injection',\n",
              "  'Atarax 25mg Tablet',\n",
              "  'Avomine Tablet',\n",
              "  'Anovate Cream',\n",
              "  'Actorise 40 Injection',\n",
              "  'Arkamin Tablet',\n",
              "  'Alprax 0.25 Tablet',\n",
              "  'Alkasol Oral Solution',\n",
              "  'Aricep 10 Tablet',\n",
              "  'Allegra-M Tablet',\n",
              "  'Aricep-M  Tablet',\n",
              "  'Altraday Capsule SR',\n",
              "  'Azee 500 Tablet',\n",
              "  'Augmentin Duo Oral Suspension',\n",
              "  'Aldactone Tablet',\n",
              "  'Ativan 2mg Tablet',\n",
              "  'Ascoril D Plus Syrup Sugar Free',\n",
              "  'Allegra 180mg Tablet',\n",
              "  'Alex Syrup',\n",
              "  'Amlokind-AT Tablet',\n",
              "  'Atarax 10mg Tablet'],\n",
              " 'rule_7dld': ['Augmentin 625 Duo Tablet',\n",
              "  'Aricep 5 Tablet',\n",
              "  'Avil 25 Tablet',\n",
              "  'Azithral 500 Tablet',\n",
              "  'Aciloc 150 Tablet',\n",
              "  'Ascoril LS Syrup',\n",
              "  'Allegra 120mg Tablet',\n",
              "  'Armotraz Tablet',\n",
              "  'Amoxyclav 625 Tablet',\n",
              "  'Avastin 100mg Injection',\n",
              "  'Atarax 25mg Tablet',\n",
              "  'Avomine Tablet',\n",
              "  'Anovate Cream',\n",
              "  'Actorise 40 Injection',\n",
              "  'Arkamin Tablet',\n",
              "  'Alprax 0.25 Tablet',\n",
              "  'Alkasol Oral Solution',\n",
              "  'Aricep 10 Tablet',\n",
              "  'Allegra-M Tablet',\n",
              "  'Aricep-M  Tablet',\n",
              "  'Altraday Capsule SR',\n",
              "  'Azee 500 Tablet',\n",
              "  'Augmentin Duo Oral Suspension',\n",
              "  'Aldactone Tablet',\n",
              "  'Ativan 2mg Tablet',\n",
              "  'Ascoril D Plus Syrup Sugar Free',\n",
              "  'Allegra 180mg Tablet',\n",
              "  'Alex Syrup',\n",
              "  'Amlokind-AT Tablet',\n",
              "  'Atarax 10mg Tablet']}"
            ]
          },
          "metadata": {},
          "execution_count": 27
        }
      ]
    },
    {
      "cell_type": "code",
      "source": [
        "scraper.set_rule_aliases({'rule_f0pa':'Title','rule_5e18':'Price'})\n",
        "scraper.keep_rules(['rule_f0pa','rule_5e18'])\n",
        "scraper.save('tata1mg-search')"
      ],
      "metadata": {
        "id": "1RXHJir1KAEe"
      },
      "execution_count": 28,
      "outputs": []
    },
    {
      "cell_type": "code",
      "source": [
        "results=scraper.get_result_similar('https://www.1mg.com/drugs-all-medicines?page=2',group_by_alias=True)"
      ],
      "metadata": {
        "id": "QeVi8b4MKJHN"
      },
      "execution_count": 29,
      "outputs": []
    },
    {
      "cell_type": "code",
      "source": [
        "results['Price']"
      ],
      "metadata": {
        "colab": {
          "base_uri": "https://localhost:8080/"
        },
        "id": "cQaPS5QWKKDM",
        "outputId": "bdcf3011-2a60-4f40-c051-7299aa9dd31d"
      },
      "execution_count": 30,
      "outputs": [
        {
          "output_type": "execute_result",
          "data": {
            "text/plain": [
              "['MRP₹77',\n",
              " 'MRP₹440',\n",
              " 'MRP₹9.53',\n",
              " 'MRP₹448.5',\n",
              " 'MRP₹69',\n",
              " 'MRP₹120',\n",
              " 'MRP₹756.5',\n",
              " 'MRP₹66.9',\n",
              " 'MRP₹99.5',\n",
              " 'MRP₹136.68',\n",
              " 'MRP₹99.45',\n",
              " 'MRP₹1815',\n",
              " 'MRP₹310',\n",
              " 'MRP₹157.85',\n",
              " 'MRP₹137.01',\n",
              " 'MRP₹110.25',\n",
              " 'MRP₹27.15',\n",
              " 'MRP₹21.17',\n",
              " 'MRP₹90.8',\n",
              " 'MRP₹51',\n",
              " 'MRP₹115',\n",
              " 'MRP₹33.05',\n",
              " 'MRP₹135',\n",
              " 'MRP₹310',\n",
              " 'MRP₹201',\n",
              " 'MRP₹29.6',\n",
              " 'MRP₹162',\n",
              " 'MRP₹110.3',\n",
              " 'MRP₹70.4',\n",
              " 'MRP₹68.2']"
            ]
          },
          "metadata": {},
          "execution_count": 30
        }
      ]
    },
    {
      "cell_type": "code",
      "source": [
        "results['Title']"
      ],
      "metadata": {
        "colab": {
          "base_uri": "https://localhost:8080/"
        },
        "id": "tUddeBCkNhtg",
        "outputId": "62011820-c7f0-4b9c-c844-55c2b7a371c1"
      },
      "execution_count": 32,
      "outputs": [
        {
          "output_type": "execute_result",
          "data": {
            "text/plain": [
              "['MRP₹77',\n",
              " 'MRP₹440',\n",
              " 'MRP₹9.53',\n",
              " 'MRP₹448.5',\n",
              " 'MRP₹69',\n",
              " 'MRP₹120',\n",
              " 'MRP₹756.5',\n",
              " 'MRP₹66.9',\n",
              " 'MRP₹99.5',\n",
              " 'MRP₹136.68',\n",
              " 'MRP₹99.45',\n",
              " 'MRP₹1815',\n",
              " 'MRP₹310',\n",
              " 'MRP₹157.85',\n",
              " 'MRP₹137.01',\n",
              " 'MRP₹110.25',\n",
              " 'MRP₹27.15',\n",
              " 'MRP₹21.17',\n",
              " 'MRP₹90.8',\n",
              " 'MRP₹51',\n",
              " 'MRP₹115',\n",
              " 'MRP₹33.05',\n",
              " 'MRP₹135',\n",
              " 'MRP₹310',\n",
              " 'MRP₹201',\n",
              " 'MRP₹29.6',\n",
              " 'MRP₹162',\n",
              " 'MRP₹110.3',\n",
              " 'MRP₹70.4',\n",
              " 'MRP₹68.2']"
            ]
          },
          "metadata": {},
          "execution_count": 32
        }
      ]
    }
  ]
}
