{
  "nbformat": 4,
  "nbformat_minor": 0,
  "metadata": {
    "colab": {
      "provenance": [],
      "authorship_tag": "ABX9TyPWkQhPEz2ykvwTkzeYQV7P",
      "include_colab_link": true
    },
    "kernelspec": {
      "name": "python3",
      "display_name": "Python 3"
    },
    "language_info": {
      "name": "python"
    }
  },
  "cells": [
    {
      "cell_type": "markdown",
      "metadata": {
        "id": "view-in-github",
        "colab_type": "text"
      },
      "source": [
        "<a href=\"https://colab.research.google.com/github/Ayush-Sharma410/ThaparSummerSchool/blob/main/googlesearch.ipynb\" target=\"_parent\"><img src=\"https://colab.research.google.com/assets/colab-badge.svg\" alt=\"Open In Colab\"/></a>"
      ]
    },
    {
      "cell_type": "code",
      "execution_count": null,
      "metadata": {
        "id": "PXhiD51h8fQj"
      },
      "outputs": [],
      "source": [
        "from googlesearch import search"
      ]
    },
    {
      "cell_type": "code",
      "source": [
        "# Define the search query\n",
        "query = \"calpol 650\""
      ],
      "metadata": {
        "id": "EYq6721SBOlp"
      },
      "execution_count": null,
      "outputs": []
    },
    {
      "cell_type": "code",
      "source": [
        "# query: query string that we want to search for.\n",
        "# TLD: TLD stands for the top-level domain which means we want to search our results on google.com or google. in or some other domain.\n",
        "# lang: lang stands for language.\n",
        "# num: Number of results we want.\n",
        "# start: The first result to retrieve.\n",
        "# stop: The last result to retrieve. Use None to keep searching forever.\n",
        "# pause: Lapse to wait between HTTP requests. Lapse too short may cause Google to block your IP. Keeping significant lapses will make your program slow but it’s a safe and better option.\n",
        "# Return: Generator (iterator) that yields found URLs. If the stop parameter is None the iterator will loop forever."
      ],
      "metadata": {
        "id": "XehABpORG9g6"
      },
      "execution_count": null,
      "outputs": []
    },
    {
      "cell_type": "code",
      "source": [
        "# Perform the Google search\n",
        "search_results = search(query,tld=\"co.in\",num=10, lang=\"en\",pause=10,stop=10,country='IN')\n",
        "\n",
        "# Iterate over the search results and print the URLs\n",
        "for url in search_results:\n",
        "    print(url)"
      ],
      "metadata": {
        "colab": {
          "base_uri": "https://localhost:8080/"
        },
        "id": "QkFG9vXKBQB4",
        "outputId": "7883564d-ee87-4b0d-f636-081bae9acf80"
      },
      "execution_count": null,
      "outputs": [
        {
          "output_type": "stream",
          "name": "stdout",
          "text": [
            "https://www.1mg.com/drugs/calpol-650mg-tablet-74819\n",
            "https://www.1mg.com/drugs/calpol-650-tablet-842047\n",
            "https://www.practo.com/medicine-info/calpol-650-mg-tablet-2026\n",
            "https://pharmeasy.in/online-medicine-order/calpol-650mg-strip-of-15-tablets-11538\n",
            "https://www.apollopharmacy.in/otc/calpol-650mg-tablet\n",
            "https://www.medibuddy.in/medicines/calpol-650-tablet\n",
            "https://www.netmeds.com/prescriptions/calpol-650mg-tablet-15-s\n"
          ]
        }
      ]
    },
    {
      "cell_type": "code",
      "source": [],
      "metadata": {
        "id": "Mq-Ygy1KRSGk"
      },
      "execution_count": null,
      "outputs": []
    }
  ]
}