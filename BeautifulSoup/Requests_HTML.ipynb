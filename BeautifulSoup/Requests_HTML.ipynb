{
  "cells": [
    {
      "cell_type": "markdown",
      "metadata": {
        "id": "view-in-github",
        "colab_type": "text"
      },
      "source": [
        "<a href=\"https://colab.research.google.com/github/Ayush-Sharma410/ThaparSummerSchool/blob/main/Requests_HTML.ipynb\" target=\"_parent\"><img src=\"https://colab.research.google.com/assets/colab-badge.svg\" alt=\"Open In Colab\"/></a>"
      ]
    },
    {
      "cell_type": "code",
      "execution_count": null,
      "metadata": {
        "id": "B-JX2H3teMs5"
      },
      "outputs": [],
      "source": [
        "!pip install requests_html"
      ]
    },
    {
      "cell_type": "code",
      "execution_count": null,
      "metadata": {
        "id": "dbM0mGjaeb-o"
      },
      "outputs": [],
      "source": [
        "from requests_html import HTMLSession\n",
        "\n",
        "# Define the URL of the webpage to scrape\n",
        "url = \"https://pharmeasy.in/online-medicine-order/i-flora-sachet-1gm-170475\"\n",
        "\n",
        "# Create an instance of HTMLSession\n",
        "session = HTMLSession()\n",
        "\n",
        "# Send a GET request to the specified URL and retrieve the response\n",
        "response = session.get(url)\n",
        "\n",
        "# Extract the text content of the response HTML\n",
        "text = response.html.text\n",
        "text\n"
      ]
    },
    {
      "cell_type": "code",
      "source": [
        "start_word = \"\\nBy\"\n",
        "end_word = \"\\n\"\n",
        "start_index = text.find(start_word)\n",
        "end_index = text.find(end_word, start_index+len(start_word))\n",
        "marketer = text[start_index+len(start_word):end_index].strip()\n",
        "if '\"' in marketer:\n",
        "    marketer = \"null\"\n",
        "marketer    "
      ],
      "metadata": {
        "colab": {
          "base_uri": "https://localhost:8080/",
          "height": 36
        },
        "id": "s5WVpkaC86PC",
        "outputId": "59d0e895-1c86-49a3-a416-b359fb8f5687"
      },
      "execution_count": 4,
      "outputs": [
        {
          "output_type": "execute_result",
          "data": {
            "text/plain": [
              "'PARAX IMPEX'"
            ],
            "application/vnd.google.colaboratory.intrinsic+json": {
              "type": "string"
            }
          },
          "metadata": {},
          "execution_count": 4
        }
      ]
    },
    {
      "cell_type": "code",
      "source": [
        "start_word = \"Contains\\n\"\n",
        "end_word = \"\\n\"\n",
        "start_index = text.find(start_word)\n",
        "end_index = text.find(end_word, start_index+len(start_word))\n",
        "salts = text[start_index+len(start_word):end_index].strip()\n",
        "if '\"' in salts:\n",
        "    salts = \"null\"\n",
        "salts    "
      ],
      "metadata": {
        "colab": {
          "base_uri": "https://localhost:8080/",
          "height": 36
        },
        "id": "RJfDUJQ582H4",
        "outputId": "1bf59f9b-e862-4095-c75a-04f4a7ee32bd"
      },
      "execution_count": 6,
      "outputs": [
        {
          "output_type": "execute_result",
          "data": {
            "text/plain": [
              "'Racecadotril + Saccharomyces Boulardii + Lactic Acid Bacillus'"
            ],
            "application/vnd.google.colaboratory.intrinsic+json": {
              "type": "string"
            }
          },
          "metadata": {},
          "execution_count": 6
        }
      ]
    }
  ],
  "metadata": {
    "colab": {
      "provenance": [],
      "authorship_tag": "ABX9TyMLMgPrXlMqEGfLZVb4xld2",
      "include_colab_link": true
    },
    "kernelspec": {
      "display_name": "Python 3",
      "name": "python3"
    },
    "language_info": {
      "name": "python"
    }
  },
  "nbformat": 4,
  "nbformat_minor": 0
}
