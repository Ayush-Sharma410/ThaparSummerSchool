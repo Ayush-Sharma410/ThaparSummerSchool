{
  "nbformat": 4,
  "nbformat_minor": 0,
  "metadata": {
    "colab": {
      "provenance": [],
      "authorship_tag": "ABX9TyPZMvLEi5QJTS/48wyCq0SU",
      "include_colab_link": true
    },
    "kernelspec": {
      "name": "python3",
      "display_name": "Python 3"
    },
    "language_info": {
      "name": "python"
    }
  },
  "cells": [
    {
      "cell_type": "markdown",
      "metadata": {
        "id": "view-in-github",
        "colab_type": "text"
      },
      "source": [
        "<a href=\"https://colab.research.google.com/github/Ayush-Sharma410/ThaparSummerSchool/blob/main/BeautifulSoup.ipynb\" target=\"_parent\"><img src=\"https://colab.research.google.com/assets/colab-badge.svg\" alt=\"Open In Colab\"/></a>"
      ]
    },
    {
      "cell_type": "markdown",
      "source": [
        "#Import the libraries"
      ],
      "metadata": {
        "id": "6NSG46Q4u9go"
      }
    },
    {
      "cell_type": "code",
      "execution_count": 13,
      "metadata": {
        "id": "O0u-O5DBuvfG"
      },
      "outputs": [],
      "source": [
        "import requests\n",
        "from bs4 import BeautifulSoup\n",
        "from urllib.parse import urljoin"
      ]
    },
    {
      "cell_type": "markdown",
      "source": [
        "\n",
        "# URL of the webpage to scrape\n"
      ],
      "metadata": {
        "id": "W1cAUxPzu4tH"
      }
    },
    {
      "cell_type": "code",
      "source": [
        "url = \"https://en.wikipedia.org/wiki/John_Mayer\""
      ],
      "metadata": {
        "id": "6sbrLGuSu1zo"
      },
      "execution_count": 2,
      "outputs": []
    },
    {
      "cell_type": "markdown",
      "source": [
        "# Send a GET request to the webpage"
      ],
      "metadata": {
        "id": "qGw4NvI3vCes"
      }
    },
    {
      "cell_type": "code",
      "source": [
        "response = requests.get(url)"
      ],
      "metadata": {
        "id": "33F4rGckvG9e"
      },
      "execution_count": 3,
      "outputs": []
    },
    {
      "cell_type": "markdown",
      "source": [
        "\n",
        "# Create a BeautifulSoup object to parse the HTML content"
      ],
      "metadata": {
        "id": "9cs3VB7avKD5"
      }
    },
    {
      "cell_type": "code",
      "source": [
        "soup = BeautifulSoup(response.content, \"html.parser\")"
      ],
      "metadata": {
        "id": "xOZ6cfiJvJUu"
      },
      "execution_count": 4,
      "outputs": []
    },
    {
      "cell_type": "markdown",
      "source": [
        "#Information Extraction"
      ],
      "metadata": {
        "id": "skqR0NiJ7sJw"
      }
    },
    {
      "cell_type": "code",
      "source": [
        "#paragraphs\n",
        "paragraphs=soup.find_all(\"p\")\n",
        "for paragraph in paragraphs:\n",
        "  print(paragraph.text)"
      ],
      "metadata": {
        "id": "FWgVwBx8vVnG"
      },
      "execution_count": null,
      "outputs": []
    },
    {
      "cell_type": "code",
      "source": [
        "#relative urls\n",
        "links = soup.find_all(\"a\")\n",
        "for link in links:\n",
        "    if 'href' in link.attrs:\n",
        "        print(link['href'])\n",
        "    else:\n",
        "        print(\"No 'href' attribute found for the link.\")"
      ],
      "metadata": {
        "id": "bGx01JmlvaSK"
      },
      "execution_count": null,
      "outputs": []
    },
    {
      "cell_type": "code",
      "source": [
        "#absolute urls\n",
        "links = soup.find_all(\"a\")\n",
        "for link in links:\n",
        "    # Check if the 'href' attribute exists before accessing it\n",
        "    if 'href' in link.attrs:\n",
        "        absolute_url = urljoin(url, link[\"href\"])\n",
        "        print(absolute_url)\n",
        "    else:\n",
        "        print(\"No 'href' attribute found for the link.\")"
      ],
      "metadata": {
        "id": "aej_TUYLxk3P"
      },
      "execution_count": null,
      "outputs": []
    },
    {
      "cell_type": "code",
      "source": [
        "#title\n",
        "title = soup.find(\"span\", class_=\"mw-page-title-main\").text\n",
        "print(title)"
      ],
      "metadata": {
        "colab": {
          "base_uri": "https://localhost:8080/"
        },
        "id": "jMcVZXmpvUnx",
        "outputId": "3d2ddfd1-730a-4765-990d-e3b1f5209c0c"
      },
      "execution_count": 7,
      "outputs": [
        {
          "output_type": "stream",
          "name": "stdout",
          "text": [
            "John Mayer\n"
          ]
        }
      ]
    },
    {
      "cell_type": "code",
      "source": [
        "#chaining of elements\n",
        "paragraphs = soup.find_all(\"p\")\n",
        "for paragraph in paragraphs:\n",
        "    bold_texts = paragraph.find_all(\"b\")\n",
        "    for i in range(min(5, len(bold_texts))):\n",
        "        print(bold_texts[i].text)"
      ],
      "metadata": {
        "id": "97_7h-2Z6qdm"
      },
      "execution_count": null,
      "outputs": []
    }
  ]
}
