{
  "cells": [
    {
      "cell_type": "markdown",
      "metadata": {
        "id": "view-in-github",
        "colab_type": "text"
      },
      "source": [
        "<a href=\"https://colab.research.google.com/github/Ayush-Sharma410/ThaparSummerSchool/blob/main/Project1.ipynb\" target=\"_parent\"><img src=\"https://colab.research.google.com/assets/colab-badge.svg\" alt=\"Open In Colab\"/></a>"
      ]
    },
    {
      "cell_type": "code",
      "execution_count": null,
      "metadata": {
        "colab": {
          "base_uri": "https://localhost:8080/",
          "height": 235
        },
        "id": "pq0-eLZa8NXR",
        "outputId": "8d85ff81-d20e-4228-872c-4efccfe616ee"
      },
      "outputs": [
        {
          "output_type": "error",
          "ename": "FileNotFoundError",
          "evalue": "ignored",
          "traceback": [
            "\u001b[0;31m---------------------------------------------------------------------------\u001b[0m",
            "\u001b[0;31mFileNotFoundError\u001b[0m                         Traceback (most recent call last)",
            "\u001b[0;32m<ipython-input-2-f36201da7746>\u001b[0m in \u001b[0;36m<cell line: 12>\u001b[0;34m()\u001b[0m\n\u001b[1;32m     10\u001b[0m \u001b[0mwebsites\u001b[0m \u001b[0;34m=\u001b[0m \u001b[0;34m[\u001b[0m\u001b[0;34m'1mg.com'\u001b[0m\u001b[0;34m,\u001b[0m \u001b[0;34m'pharmeasy.in'\u001b[0m\u001b[0;34m,\u001b[0m \u001b[0;34m'netmeds.com'\u001b[0m\u001b[0;34m,\u001b[0m \u001b[0;34m'apollopharmacy.in'\u001b[0m\u001b[0;34m]\u001b[0m\u001b[0;34m\u001b[0m\u001b[0;34m\u001b[0m\u001b[0m\n\u001b[1;32m     11\u001b[0m \u001b[0;31m# Open the input CSV file containing the names\u001b[0m\u001b[0;34m\u001b[0m\u001b[0;34m\u001b[0m\u001b[0m\n\u001b[0;32m---> 12\u001b[0;31m \u001b[0;32mwith\u001b[0m \u001b[0mopen\u001b[0m\u001b[0;34m(\u001b[0m\u001b[0;34m'Tata1Mg.csv'\u001b[0m\u001b[0;34m,\u001b[0m \u001b[0mnewline\u001b[0m\u001b[0;34m=\u001b[0m\u001b[0;34m''\u001b[0m\u001b[0;34m)\u001b[0m \u001b[0;32mas\u001b[0m \u001b[0mcsvfile\u001b[0m\u001b[0;34m:\u001b[0m\u001b[0;34m\u001b[0m\u001b[0;34m\u001b[0m\u001b[0m\n\u001b[0m\u001b[1;32m     13\u001b[0m     \u001b[0mreader\u001b[0m \u001b[0;34m=\u001b[0m \u001b[0mcsv\u001b[0m\u001b[0;34m.\u001b[0m\u001b[0mreader\u001b[0m\u001b[0;34m(\u001b[0m\u001b[0mcsvfile\u001b[0m\u001b[0;34m)\u001b[0m\u001b[0;34m\u001b[0m\u001b[0;34m\u001b[0m\u001b[0m\n\u001b[1;32m     14\u001b[0m     \u001b[0mnext\u001b[0m\u001b[0;34m(\u001b[0m\u001b[0mreader\u001b[0m\u001b[0;34m)\u001b[0m \u001b[0;31m# Skip the header row\u001b[0m\u001b[0;34m\u001b[0m\u001b[0;34m\u001b[0m\u001b[0m\n",
            "\u001b[0;31mFileNotFoundError\u001b[0m: [Errno 2] No such file or directory: 'Tata1Mg.csv'"
          ]
        }
      ],
      "source": [
        "##                                                           USING GOOGLE SEARCH LIBRARY                                  ##\n",
        "import csv\n",
        "from googlesearch import search\n",
        "\n",
        "\n",
        "\n",
        "# The search query\n",
        "\n",
        "# The domain names of the specific websites to extract\n",
        "websites = ['1mg.com', 'pharmeasy.in', 'netmeds.com', 'apollopharmacy.in']\n",
        "# Open the input CSV file containing the names\n",
        "with open('Tata1Mg.csv', newline='') as csvfile:\n",
        "    reader = csv.reader(csvfile)\n",
        "    next(reader) # Skip the header row\n",
        "    for row in reader:\n",
        "        name = row[0].strip()\n",
        "        print(f\"Searching for {name} ...\")\n",
        "        search_results = list(search(f\"{name}\", tld=\"co.in\", num=10, lang=\"en\", country=\"IN\", pause=16, stop=10, user_agent='Mozilla/5.0'))\n",
        "        for website in websites:\n",
        "            urls = []\n",
        "            for url in search_results:\n",
        "                if website in url:\n",
        "                    urls.append(url)\n",
        "                    print(url)\n",
        "            # Store the extracted URLs in a CSV file for the website\n",
        "            with open(f\"{website}.csv\", 'a', newline='') as outfile:\n",
        "                writer = csv.writer(outfile)\n",
        "                writer.writerow([name] + urls)\n",
        "        print(f\"{name} search completed.\")\n"
      ]
    }
  ],
  "metadata": {
    "colab": {
      "provenance": [],
      "mount_file_id": "1fszr2ugKVwOBFWOkZfCfbEzlyMq3peKG",
      "authorship_tag": "ABX9TyPdhGJRkF0jvFnDugoW+Me4",
      "include_colab_link": true
    },
    "kernelspec": {
      "display_name": "Python 3",
      "name": "python3"
    },
    "language_info": {
      "name": "python"
    }
  },
  "nbformat": 4,
  "nbformat_minor": 0
}
